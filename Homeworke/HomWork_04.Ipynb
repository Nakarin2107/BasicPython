{
 "cells": [
  {
   "cell_type": "code",
   "execution_count": 11,
   "metadata": {},
   "outputs": [
    {
     "name": "stdout",
     "output_type": "stream",
     "text": [
      "จำนวนเงิน 4\n",
      "ธนบัตร 1000 จำนวน 0\n",
      "ธนบัตร  500 จำนวน 0\n",
      "ธนบัตร  100 จำนวน 0\n"
     ]
    }
   ],
   "source": [
    "'''\n",
    "    โปรแกรม คำนวนธนบัตร ATM\n",
    "    นายนครินทร์ ภัยสิลา รหัสนักศึกษา 6412732107\n",
    "'''\n",
    "\n",
    "money = int(input(\"จำนวนเงิน >> \"))\n",
    "item = [1000,500,100]\n",
    "print(f\"จำนวนเงิน {money}\")\n",
    "\n",
    "for i in item:\n",
    "    result = money // i\n",
    "    money = money % i\n",
    "    print(f\"ธนบัตร {i:4} จำนวน {result}\")"
   ]
  }
 ],
 "metadata": {
  "interpreter": {
   "hash": "42588fd11209419b7c81abe23e31a1d2101f60811b02170c268e57ebb57d5d9a"
  },
  "kernelspec": {
   "display_name": "Python 3.9.7 ('base')",
   "language": "python",
   "name": "python3"
  },
  "language_info": {
   "codemirror_mode": {
    "name": "ipython",
    "version": 3
   },
   "file_extension": ".py",
   "mimetype": "text/x-python",
   "name": "python",
   "nbconvert_exporter": "python",
   "pygments_lexer": "ipython3",
   "version": "3.9.7"
  },
  "orig_nbformat": 4
 },
 "nbformat": 4,
 "nbformat_minor": 2
}
